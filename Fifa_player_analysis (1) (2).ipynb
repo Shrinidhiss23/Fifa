{
 "cells": [
  {
   "cell_type": "code",
   "execution_count": null,
   "id": "105b7a6f",
   "metadata": {},
   "outputs": [],
   "source": [
    "import pandas as pd\n",
    "import numpy as np\n",
    "import seaborn as sns\n",
    "import matplotlib.pyplot as plt"
   ]
  },
  {
   "cell_type": "code",
   "execution_count": null,
   "id": "893efea5",
   "metadata": {},
   "outputs": [],
   "source": [
    "data=pd.read_csv(\"C:/Users/Shrinidhi/Downloads/fifa player performance/fifa player performance/data-1.csv\")"
   ]
  },
  {
   "cell_type": "code",
   "execution_count": null,
   "id": "92a0732b",
   "metadata": {},
   "outputs": [],
   "source": [
    "pd.DataFrame(data)"
   ]
  },
  {
   "cell_type": "code",
   "execution_count": null,
   "id": "fa01b4c8",
   "metadata": {},
   "outputs": [],
   "source": [
    "data.head(5)"
   ]
  },
  {
   "cell_type": "code",
   "execution_count": null,
   "id": "f0f12d8d",
   "metadata": {},
   "outputs": [],
   "source": [
    "data.tail(5)"
   ]
  },
  {
   "cell_type": "code",
   "execution_count": null,
   "id": "e6f233a0",
   "metadata": {},
   "outputs": [],
   "source": [
    "data.info(5)"
   ]
  },
  {
   "cell_type": "code",
   "execution_count": null,
   "id": "bb3fdfca",
   "metadata": {},
   "outputs": [],
   "source": [
    "data.shape"
   ]
  },
  {
   "cell_type": "code",
   "execution_count": null,
   "id": "f75d83d3",
   "metadata": {},
   "outputs": [],
   "source": [
    "data.describe()"
   ]
  },
  {
   "cell_type": "code",
   "execution_count": null,
   "id": "b7889388",
   "metadata": {},
   "outputs": [],
   "source": [
    "data.columns"
   ]
  },
  {
   "cell_type": "code",
   "execution_count": null,
   "id": "9177c876",
   "metadata": {},
   "outputs": [],
   "source": [
    "data.nunique()"
   ]
  },
  {
   "cell_type": "code",
   "execution_count": null,
   "id": "f4fe3d89",
   "metadata": {},
   "outputs": [],
   "source": [
    "data['Age'].unique()"
   ]
  },
  {
   "cell_type": "code",
   "execution_count": null,
   "id": "d06faed1",
   "metadata": {},
   "outputs": [],
   "source": [
    "data.isnull()"
   ]
  },
  {
   "cell_type": "code",
   "execution_count": null,
   "id": "8cd46a4b",
   "metadata": {},
   "outputs": [],
   "source": [
    "data.isnull().sum()"
   ]
  },
  {
   "cell_type": "code",
   "execution_count": null,
   "id": "fb3c45d0",
   "metadata": {},
   "outputs": [],
   "source": [
    "# total number of null values\n",
    "data.isnull().sum().sum()"
   ]
  },
  {
   "cell_type": "code",
   "execution_count": null,
   "id": "d51016eb",
   "metadata": {},
   "outputs": [],
   "source": [
    "# replacing null values with 0\n",
    "data_new=data.fillna(value=0)\n",
    "data_new"
   ]
  },
  {
   "cell_type": "code",
   "execution_count": null,
   "id": "c64b81c7",
   "metadata": {},
   "outputs": [],
   "source": [
    "# after replacing null values with 0\n",
    "data_new.isnull().sum().sum()"
   ]
  },
  {
   "cell_type": "code",
   "execution_count": null,
   "id": "6ae6dc66",
   "metadata": {},
   "outputs": [],
   "source": [
    "# replacing null values with previous values of a row\n",
    "data_pre=data.fillna(method='pad')\n",
    "data_pre"
   ]
  },
  {
   "cell_type": "code",
   "execution_count": null,
   "id": "d09ad3f7",
   "metadata": {},
   "outputs": [],
   "source": [
    "# replacing null values with next values of the row\n",
    "data_next=data.fillna(method='bfill')\n",
    "data_next"
   ]
  },
  {
   "cell_type": "code",
   "execution_count": null,
   "id": "10a18190",
   "metadata": {},
   "outputs": [],
   "source": [
    "# replacing null values with previous values of a coloumn\n",
    "data_pre=data.fillna(method='pad',axis=1)\n",
    "data_pre"
   ]
  },
  {
   "cell_type": "code",
   "execution_count": null,
   "id": "32273a81",
   "metadata": {},
   "outputs": [],
   "source": [
    "# replacing null values with next values of a coloumn\n",
    "data_next=data.fillna(method='bfill',axis=1)\n",
    "data_next"
   ]
  },
  {
   "cell_type": "code",
   "execution_count": null,
   "id": "adff19dc",
   "metadata": {},
   "outputs": [],
   "source": [
    "# replacing null values with mean of that coloumn\n",
    "data_mean=data.fillna(value=data['GKKicking'].mean())\n",
    "data_mean"
   ]
  },
  {
   "cell_type": "code",
   "execution_count": null,
   "id": "49fe139d",
   "metadata": {},
   "outputs": [],
   "source": [
    "# replacing null values of GKKicking with max of that coloumn\n",
    "data_max= data.fillna(value=data['GKKicking'].max())\n",
    "data_max"
   ]
  },
  {
   "cell_type": "code",
   "execution_count": null,
   "id": "be82179c",
   "metadata": {},
   "outputs": [],
   "source": [
    "# dropping null values\n",
    "# drops rows containing even 1 null value\n",
    "data_drop_null=data.dropna()\n",
    "data_drop_null"
   ]
  },
  {
   "cell_type": "code",
   "execution_count": null,
   "id": "36fa2f3d",
   "metadata": {},
   "outputs": [],
   "source": [
    "# replacing null values with specified values\n",
    "data_replace=data.replace(to_replace=np.nan,value=2222)\n",
    "data_replace"
   ]
  },
  {
   "cell_type": "code",
   "execution_count": null,
   "id": "707716d7",
   "metadata": {},
   "outputs": [],
   "source": [
    "# dropping a column\n",
    "data.drop(['Age'],axis=1)"
   ]
  },
  {
   "cell_type": "code",
   "execution_count": null,
   "id": "44a325ee",
   "metadata": {},
   "outputs": [],
   "source": [
    "# number of players from each country\n",
    "data['Nationality'].value_counts()"
   ]
  },
  {
   "cell_type": "code",
   "execution_count": null,
   "id": "fab40301",
   "metadata": {},
   "outputs": [],
   "source": [
    "# top 10 countries with maximum number of players\n",
    "data['Nationality'].value_counts()[0:10].keys()"
   ]
  },
  {
   "cell_type": "markdown",
   "id": "da6179ed",
   "metadata": {},
   "source": [
    "# graphical analysis"
   ]
  },
  {
   "cell_type": "code",
   "execution_count": null,
   "id": "94a4a52b",
   "metadata": {},
   "outputs": [],
   "source": [
    "plt.figure(figsize=(10,8))\n",
    "plt.bar(list(data['Nationality'].value_counts()[0:10].keys()),list(data['Nationality'].value_counts()[0:10]),color='g')\n",
    "plt.show()"
   ]
  },
  {
   "cell_type": "code",
   "execution_count": null,
   "id": "12057607",
   "metadata": {
    "scrolled": true
   },
   "outputs": [],
   "source": [
    "player_club=data[['Name','Club']]\n",
    "player_club.head()"
   ]
  },
  {
   "cell_type": "code",
   "execution_count": null,
   "id": "fd70366e",
   "metadata": {},
   "outputs": [],
   "source": [
    "player_salary=data[['Name','Wage']]\n",
    "player_salary.head(5)"
   ]
  },
  {
   "cell_type": "code",
   "execution_count": null,
   "id": "a7da0a99",
   "metadata": {},
   "outputs": [],
   "source": [
    "plt.figure(figsize=(10,8))\n",
    "plt.bar(list(player_salary['Name'])[0:5],list(player_salary['Wage'])[0:5],color='g')\n",
    "plt.show()"
   ]
  },
  {
   "cell_type": "code",
   "execution_count": null,
   "id": "56fc563c",
   "metadata": {},
   "outputs": [],
   "source": [
    "# list of players belonging to England\n",
    "data['Nationality']=='England'"
   ]
  },
  {
   "cell_type": "code",
   "execution_count": null,
   "id": "75dd47d7",
   "metadata": {},
   "outputs": [],
   "source": [
    "England=data[data['Nationality']=='England']\n",
    "England.head(5)"
   ]
  },
  {
   "cell_type": "code",
   "execution_count": null,
   "id": "2d036fe9",
   "metadata": {},
   "outputs": [],
   "source": [
    "England.head(5)"
   ]
  },
  {
   "cell_type": "code",
   "execution_count": null,
   "id": "91d90b72",
   "metadata": {
    "scrolled": true
   },
   "outputs": [],
   "source": [
    "player_overall=data[['Name','Overall']]\n",
    "player_overall.head(5)"
   ]
  },
  {
   "cell_type": "code",
   "execution_count": null,
   "id": "eefcabef",
   "metadata": {
    "scrolled": true
   },
   "outputs": [],
   "source": [
    "# sorting players in accordance to Overall\n",
    "player_overall.sort_values(by=['Overall'],ascending=False).head(5)"
   ]
  },
  {
   "cell_type": "code",
   "execution_count": null,
   "id": "81adc67c",
   "metadata": {},
   "outputs": [],
   "source": [
    "#heatmap for complete data\n",
    "corelation=data.corr()"
   ]
  },
  {
   "cell_type": "code",
   "execution_count": null,
   "id": "0b21417e",
   "metadata": {},
   "outputs": [],
   "source": [
    "sns.heatmap(corelation,xticklabels=corelation.columns,yticklabels=corelation.columns,annot=True,linewidth=3)\n",
    "sns.set(rc={'figure.figsize':(10,10)})"
   ]
  },
  {
   "cell_type": "code",
   "execution_count": null,
   "id": "9690869d",
   "metadata": {},
   "outputs": [],
   "source": [
    "data_new=data[['Strength','Stamina','Agility','Aggression','Composure','Reactions','Penalties']]\n",
    "data_new.head(5)"
   ]
  },
  {
   "cell_type": "code",
   "execution_count": null,
   "id": "1344cf2d",
   "metadata": {},
   "outputs": [],
   "source": [
    "# heatmap for the above specified data set\n",
    "corelation=data_new.corr()"
   ]
  },
  {
   "cell_type": "code",
   "execution_count": null,
   "id": "c6f0af35",
   "metadata": {},
   "outputs": [],
   "source": [
    "sns.heatmap(corelation,xticklabels=corelation.columns,yticklabels=corelation.columns,annot=True)"
   ]
  },
  {
   "cell_type": "code",
   "execution_count": null,
   "id": "26651174",
   "metadata": {},
   "outputs": [],
   "source": [
    "#pairplot of the complete data\n",
    "sns.pairplot(data)"
   ]
  },
  {
   "cell_type": "code",
   "execution_count": null,
   "id": "5c89ef64",
   "metadata": {},
   "outputs": [],
   "source": [
    "# pairplot of the reduced data set\n",
    "sns.pairplot(data_new)\n"
   ]
  },
  {
   "cell_type": "code",
   "execution_count": null,
   "id": "8872e773",
   "metadata": {
    "scrolled": false
   },
   "outputs": [],
   "source": [
    "x=data[['Strength']]\n",
    "x.head(5)"
   ]
  },
  {
   "cell_type": "code",
   "execution_count": null,
   "id": "81e8116b",
   "metadata": {},
   "outputs": [],
   "source": [
    "y=data[['Composure']]\n",
    "y.head(5)"
   ]
  },
  {
   "cell_type": "code",
   "execution_count": null,
   "id": "738e0ba8",
   "metadata": {},
   "outputs": [],
   "source": [
    "plt.scatter(x,y,color='blue')\n",
    "plt.title('Strength vs Composure plot')\n",
    "plt.xlabel('Strength')\n",
    "plt.ylabel('Composure')\n",
    "plt.show()"
   ]
  },
  {
   "cell_type": "code",
   "execution_count": null,
   "id": "dc4404c3",
   "metadata": {},
   "outputs": [],
   "source": [
    "sns.displot(data['SprintSpeed'])"
   ]
  },
  {
   "cell_type": "code",
   "execution_count": null,
   "id": "8b06ac28",
   "metadata": {},
   "outputs": [],
   "source": [
    "plt.figure(figsize=(22,8))\n",
    "plot=sns.countplot(x='Height',data=data)\n",
    "plot.set_title('Player Counts based on Heights')\n",
    "plot.set_xlabel('Height')\n",
    "plot.set_ylabel('Number of players')\n",
    "plt.show()"
   ]
  },
  {
   "cell_type": "markdown",
   "id": "244a4199",
   "metadata": {},
   "source": [
    "# Messi vs Ronaldo"
   ]
  },
  {
   "cell_type": "code",
   "execution_count": null,
   "id": "f8ae1c15",
   "metadata": {},
   "outputs": [],
   "source": [
    "skills=data.columns\n",
    "skills"
   ]
  },
  {
   "cell_type": "code",
   "execution_count": null,
   "id": "3bed60fd",
   "metadata": {},
   "outputs": [],
   "source": [
    "skills=['Crossing','Finishing', 'HeadingAccuracy', 'ShortPassing', 'Volleys', 'Dribbling',\n",
    "       'Curve', 'LongPassing', 'BallControl', 'Acceleration',\n",
    "       'SprintSpeed', 'Agility', 'Reactions', 'Balance', 'ShotPower',\n",
    "       'Jumping', 'Stamina', 'Strength', 'LongShots', 'Aggression',\n",
    "       'Interceptions', 'Positioning', 'Vision', 'Penalties', 'Composure',\n",
    "       'Marking']"
   ]
  },
  {
   "cell_type": "code",
   "execution_count": null,
   "id": "c0537a7f",
   "metadata": {},
   "outputs": [],
   "source": [
    "messi=data.loc[data['Name']=='L. Messi']\n",
    "messi=pd.DataFrame(messi,columns=skills)\n",
    "\n",
    "ronaldo=data.loc[data['Name']=='Cristiano Ronaldo']\n",
    "ronaldo=pd.DataFrame(ronaldo,columns=skills)"
   ]
  },
  {
   "cell_type": "code",
   "execution_count": null,
   "id": "8dea1fbf",
   "metadata": {},
   "outputs": [],
   "source": [
    "messi"
   ]
  },
  {
   "cell_type": "code",
   "execution_count": null,
   "id": "4b95c9c4",
   "metadata": {},
   "outputs": [],
   "source": [
    "ronaldo"
   ]
  },
  {
   "cell_type": "code",
   "execution_count": null,
   "id": "99acbbd7",
   "metadata": {},
   "outputs": [],
   "source": [
    "#point plot\n",
    "plt.figure(figsize=(40,10))\n",
    "sns.pointplot(data=messi,color='orange')\n",
    "sns.pointplot(data=ronaldo,color='green')\n",
    "plt.title(\"Messi vs Ronaldo\",fontsize=40)\n",
    "plt.xlabel(\"skills\",fontsize=30)\n",
    "plt.ylabel(\"skill values\",fontsize=30)\n",
    "plt.xticks(rotation=90,fontsize=20)\n",
    "plt.grid()"
   ]
  },
  {
   "cell_type": "code",
   "execution_count": null,
   "id": "4e22767e",
   "metadata": {},
   "outputs": [],
   "source": [
    "sns.jointplot(x=data['Potential'],y=data['Overall'])"
   ]
  },
  {
   "cell_type": "code",
   "execution_count": null,
   "id": "124a40c6",
   "metadata": {},
   "outputs": [],
   "source": [
    "sns.jointplot(x=data['Potential'],y=data['Overall'],kind='hex',color='green')"
   ]
  },
  {
   "cell_type": "code",
   "execution_count": null,
   "id": "c9d2f3a9",
   "metadata": {},
   "outputs": [],
   "source": [
    "sns.jointplot(x=data['Potential'],y=data['Overall'],kind='kde')"
   ]
  },
  {
   "cell_type": "code",
   "execution_count": null,
   "id": "9f466bf2",
   "metadata": {},
   "outputs": [],
   "source": [
    "plt.figure(figsize=(40,20))\n",
    "sns.stripplot(x=data['Strength'],y=data['Balance'])\n",
    "plt.xlabel('Strength',fontsize=30)\n",
    "plt.ylabel('Balance',fontsize=30)"
   ]
  },
  {
   "cell_type": "code",
   "execution_count": null,
   "id": "866e0f15",
   "metadata": {
    "scrolled": true
   },
   "outputs": [],
   "source": [
    "plt.figure(figsize=(40,20))\n",
    "sns.boxplot(data=data,x=\"Strength\",y=\"Potential\",color=\"red\")"
   ]
  },
  {
   "cell_type": "code",
   "execution_count": null,
   "id": "b6c208bf",
   "metadata": {},
   "outputs": [],
   "source": [
    "sns.lmplot(x='Aggression',y='Stamina',data=data_new,height=10)"
   ]
  },
  {
   "cell_type": "code",
   "execution_count": null,
   "id": "1a0c7645",
   "metadata": {},
   "outputs": [],
   "source": [
    "sns.barplot(x=data['Position'].value_counts().head(10).values,y=data['Nationality'].value_counts().head(10).index,data=data)"
   ]
  },
  {
   "cell_type": "code",
   "execution_count": null,
   "id": "0374fa4b",
   "metadata": {},
   "outputs": [],
   "source": [
    "from sklearn import preprocessing\n",
    "\n",
    "x=data_new.values\n",
    "scaler=preprocessing.MinMaxScaler()\n",
    "x_scaled=scaler.fit_transform(x)\n",
    "x_norm=pd.DataFrame(x_scaled)"
   ]
  }
 ],
 "metadata": {
  "kernelspec": {
   "display_name": "Python 3",
   "language": "python",
   "name": "python3"
  },
  "language_info": {
   "codemirror_mode": {
    "name": "ipython",
    "version": 3
   },
   "file_extension": ".py",
   "mimetype": "text/x-python",
   "name": "python",
   "nbconvert_exporter": "python",
   "pygments_lexer": "ipython3",
   "version": "3.8.8"
  }
 },
 "nbformat": 4,
 "nbformat_minor": 5
}
